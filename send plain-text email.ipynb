{
 "cells": [
  {
   "cell_type": "code",
   "execution_count": 2,
   "metadata": {},
   "outputs": [
    {
     "name": "stdout",
     "output_type": "stream",
     "text": [
      "Email to albertskibajr9292@gmail.com successfully sent!\n",
      "\n",
      "\n"
     ]
    }
   ],
   "source": [
    "import pandas as pd\n",
    "import smtplib\n",
    "import os\n",
    "\n",
    "\n",
    "your_name = \"Core Capital Management & Research\"\n",
    "your_email = \"louispelz@ccmr.io\"\n",
    "your_password = \"lp04747297\"\n",
    "\n",
    "\n",
    "server = smtplib.SMTP_SSL('smtp.gmail.com', 465)\n",
    "server.ehlo()\n",
    "server.login(your_email, your_password)\n",
    "\n",
    "# Read the file\n",
    "email_list = pd.read_csv(\"emails.csv\")\n",
    "\n",
    "# Get all the Names, Email Addreses, Subjects and Messages\n",
    "all_names = email_list['user']\n",
    "all_emails = email_list['email']\n",
    "all_subjects = email_list['subject']\n",
    "all_messages = email_list['message']\n",
    "\n",
    "# Loop through the emails\n",
    "for idx in range(len(all_emails)):\n",
    "\n",
    "    # Get each records name, email, subject and message\n",
    "    name = all_names[idx]\n",
    "    email = all_emails[idx]\n",
    "    subject = all_subjects[idx]\n",
    "    message = all_messages[idx]\n",
    "\n",
    "    # Create the email to send\n",
    "    full_email = (\"From: {0} <{1}>\\n\"\n",
    "                  \"To: {2} <{3}>\\n\"\n",
    "                  \"Subject: {4}\\n\\n\"\n",
    "                  \"{5}\"\n",
    "                  .format(your_name, your_email, name, email, subject, message))\n",
    "\n",
    "    try:\n",
    "        server.sendmail(your_email, [email], full_email)\n",
    "        print('Email to {} successfully sent!\\n\\n'.format(email))\n",
    "    except Exception as e:\n",
    "        print('Email to {} could not be sent :( because {}\\n\\n'.format(email, str(e)))\n",
    "\n",
    "# Close the smtp server\n",
    "server.close()"
   ]
  },
  {
   "cell_type": "code",
   "execution_count": null,
   "metadata": {},
   "outputs": [],
   "source": []
  }
 ],
 "metadata": {
  "kernelspec": {
   "display_name": "Python 3",
   "language": "python",
   "name": "python3"
  },
  "language_info": {
   "codemirror_mode": {
    "name": "ipython",
    "version": 3
   },
   "file_extension": ".py",
   "mimetype": "text/x-python",
   "name": "python",
   "nbconvert_exporter": "python",
   "pygments_lexer": "ipython3",
   "version": "3.7.3"
  }
 },
 "nbformat": 4,
 "nbformat_minor": 2
}
